{
 "cells": [
  {
   "cell_type": "code",
   "execution_count": 1,
   "id": "caa2d5e5",
   "metadata": {},
   "outputs": [],
   "source": [
    "import pandas as pd\n",
    "import numpy as np\n",
    "\n",
    "import matplotlib.pyplot as plt\n",
    "import seaborn as sns\n",
    "\n",
    "import acquire\n",
    "import explore\n",
    "\n",
    "import sklearn.preprocessing\n",
    "from sklearn.cluster import KMeans\n",
    "\n",
    "seed = 21"
   ]
  },
  {
   "cell_type": "code",
   "execution_count": 2,
   "id": "e4716e5c",
   "metadata": {},
   "outputs": [],
   "source": [
    "df = acquire.get_wine()"
   ]
  },
  {
   "cell_type": "code",
   "execution_count": 3,
   "id": "fa5975bb",
   "metadata": {},
   "outputs": [
    {
     "data": {
      "text/html": [
       "<div>\n",
       "<style scoped>\n",
       "    .dataframe tbody tr th:only-of-type {\n",
       "        vertical-align: middle;\n",
       "    }\n",
       "\n",
       "    .dataframe tbody tr th {\n",
       "        vertical-align: top;\n",
       "    }\n",
       "\n",
       "    .dataframe thead th {\n",
       "        text-align: right;\n",
       "    }\n",
       "</style>\n",
       "<table border=\"1\" class=\"dataframe\">\n",
       "  <thead>\n",
       "    <tr style=\"text-align: right;\">\n",
       "      <th></th>\n",
       "      <th>fixed_acidity</th>\n",
       "      <th>volatile_acidity</th>\n",
       "      <th>citric_acid</th>\n",
       "      <th>residual_sugar</th>\n",
       "      <th>chlorides</th>\n",
       "      <th>free_sulfur_dioxide</th>\n",
       "      <th>total_sulfur_dioxide</th>\n",
       "      <th>density</th>\n",
       "      <th>pH</th>\n",
       "      <th>sulphates</th>\n",
       "      <th>alcohol</th>\n",
       "      <th>quality</th>\n",
       "      <th>color_red</th>\n",
       "    </tr>\n",
       "  </thead>\n",
       "  <tbody>\n",
       "    <tr>\n",
       "      <th>0</th>\n",
       "      <td>7.0</td>\n",
       "      <td>0.27</td>\n",
       "      <td>0.36</td>\n",
       "      <td>20.7</td>\n",
       "      <td>0.045</td>\n",
       "      <td>45.0</td>\n",
       "      <td>170.0</td>\n",
       "      <td>1.0010</td>\n",
       "      <td>3.00</td>\n",
       "      <td>0.45</td>\n",
       "      <td>8.8</td>\n",
       "      <td>6</td>\n",
       "      <td>0</td>\n",
       "    </tr>\n",
       "    <tr>\n",
       "      <th>1</th>\n",
       "      <td>6.3</td>\n",
       "      <td>0.30</td>\n",
       "      <td>0.34</td>\n",
       "      <td>1.6</td>\n",
       "      <td>0.049</td>\n",
       "      <td>14.0</td>\n",
       "      <td>132.0</td>\n",
       "      <td>0.9940</td>\n",
       "      <td>3.30</td>\n",
       "      <td>0.49</td>\n",
       "      <td>9.5</td>\n",
       "      <td>6</td>\n",
       "      <td>0</td>\n",
       "    </tr>\n",
       "    <tr>\n",
       "      <th>2</th>\n",
       "      <td>8.1</td>\n",
       "      <td>0.28</td>\n",
       "      <td>0.40</td>\n",
       "      <td>6.9</td>\n",
       "      <td>0.050</td>\n",
       "      <td>30.0</td>\n",
       "      <td>97.0</td>\n",
       "      <td>0.9951</td>\n",
       "      <td>3.26</td>\n",
       "      <td>0.44</td>\n",
       "      <td>10.1</td>\n",
       "      <td>6</td>\n",
       "      <td>0</td>\n",
       "    </tr>\n",
       "    <tr>\n",
       "      <th>3</th>\n",
       "      <td>7.2</td>\n",
       "      <td>0.23</td>\n",
       "      <td>0.32</td>\n",
       "      <td>8.5</td>\n",
       "      <td>0.058</td>\n",
       "      <td>47.0</td>\n",
       "      <td>186.0</td>\n",
       "      <td>0.9956</td>\n",
       "      <td>3.19</td>\n",
       "      <td>0.40</td>\n",
       "      <td>9.9</td>\n",
       "      <td>6</td>\n",
       "      <td>0</td>\n",
       "    </tr>\n",
       "    <tr>\n",
       "      <th>4</th>\n",
       "      <td>7.2</td>\n",
       "      <td>0.23</td>\n",
       "      <td>0.32</td>\n",
       "      <td>8.5</td>\n",
       "      <td>0.058</td>\n",
       "      <td>47.0</td>\n",
       "      <td>186.0</td>\n",
       "      <td>0.9956</td>\n",
       "      <td>3.19</td>\n",
       "      <td>0.40</td>\n",
       "      <td>9.9</td>\n",
       "      <td>6</td>\n",
       "      <td>0</td>\n",
       "    </tr>\n",
       "  </tbody>\n",
       "</table>\n",
       "</div>"
      ],
      "text/plain": [
       "   fixed_acidity  volatile_acidity  citric_acid  residual_sugar  chlorides  \\\n",
       "0            7.0              0.27         0.36            20.7      0.045   \n",
       "1            6.3              0.30         0.34             1.6      0.049   \n",
       "2            8.1              0.28         0.40             6.9      0.050   \n",
       "3            7.2              0.23         0.32             8.5      0.058   \n",
       "4            7.2              0.23         0.32             8.5      0.058   \n",
       "\n",
       "   free_sulfur_dioxide  total_sulfur_dioxide  density    pH  sulphates  \\\n",
       "0                 45.0                 170.0   1.0010  3.00       0.45   \n",
       "1                 14.0                 132.0   0.9940  3.30       0.49   \n",
       "2                 30.0                  97.0   0.9951  3.26       0.44   \n",
       "3                 47.0                 186.0   0.9956  3.19       0.40   \n",
       "4                 47.0                 186.0   0.9956  3.19       0.40   \n",
       "\n",
       "   alcohol  quality  color_red  \n",
       "0      8.8        6          0  \n",
       "1      9.5        6          0  \n",
       "2     10.1        6          0  \n",
       "3      9.9        6          0  \n",
       "4      9.9        6          0  "
      ]
     },
     "execution_count": 3,
     "metadata": {},
     "output_type": "execute_result"
    }
   ],
   "source": [
    "df.head()"
   ]
  },
  {
   "cell_type": "code",
   "execution_count": null,
   "id": "f820b5fc",
   "metadata": {},
   "outputs": [],
   "source": [
    "df.color.value_counts()"
   ]
  },
  {
   "cell_type": "code",
   "execution_count": null,
   "id": "e7b57c3f",
   "metadata": {},
   "outputs": [],
   "source": [
    "df.quality.value_counts()"
   ]
  },
  {
   "cell_type": "markdown",
   "id": "03f37107",
   "metadata": {},
   "source": [
    "### There are 2339 rows with outliers out of a total of 6497 rows, for now we will keep outliers"
   ]
  },
  {
   "cell_type": "code",
   "execution_count": null,
   "id": "029dbb89",
   "metadata": {},
   "outputs": [],
   "source": [
    "train, X_train, y_train, X_val, y_val, X_test, y_test = explore.split_data(df,'quality')"
   ]
  },
  {
   "cell_type": "code",
   "execution_count": null,
   "id": "c1892577",
   "metadata": {},
   "outputs": [],
   "source": [
    "X_train_s,X_val_s,X_test_s = explore.scale_minmax(X_train,X_val,X_test)"
   ]
  },
  {
   "cell_type": "code",
   "execution_count": null,
   "id": "6bb81a70",
   "metadata": {},
   "outputs": [],
   "source": [
    "X_train_s.head()"
   ]
  },
  {
   "cell_type": "code",
   "execution_count": null,
   "id": "c05b7381",
   "metadata": {},
   "outputs": [],
   "source": [
    "x = X_train[['alcohol','residual sugar']]\n",
    "kmeans = KMeans(n_clusters=3)\n",
    "kmeans.fit(x)\n",
    "kmeans.predict(x)"
   ]
  },
  {
   "cell_type": "code",
   "execution_count": null,
   "id": "3f5976d1",
   "metadata": {},
   "outputs": [],
   "source": [
    "kmeans.predict(X_val[['alcohol','residual sugar']])"
   ]
  },
  {
   "cell_type": "code",
   "execution_count": null,
   "id": "0acb3313",
   "metadata": {},
   "outputs": [],
   "source": [
    "explore.plot_inertia(x)"
   ]
  },
  {
   "cell_type": "code",
   "execution_count": null,
   "id": "3fbf7781",
   "metadata": {},
   "outputs": [],
   "source": [
    "X_train['cluster'] = kmeans.predict(x)"
   ]
  },
  {
   "cell_type": "code",
   "execution_count": null,
   "id": "1bccc16a",
   "metadata": {},
   "outputs": [],
   "source": [
    "sns.relplot(data=X_train,x='alcohol',y='pH',hue='cluster')"
   ]
  },
  {
   "cell_type": "code",
   "execution_count": null,
   "id": "64debac7",
   "metadata": {},
   "outputs": [],
   "source": [
    "sns.relplot(data=X_train,x='alcohol',y='pH',hue=X_train.cluster)"
   ]
  },
  {
   "cell_type": "code",
   "execution_count": null,
   "id": "e7328d75",
   "metadata": {},
   "outputs": [],
   "source": [
    "sns.heatmap(train.corr())"
   ]
  },
  {
   "cell_type": "code",
   "execution_count": null,
   "id": "70150028",
   "metadata": {},
   "outputs": [],
   "source": [
    "train.corr()['quality'].sort_values()"
   ]
  },
  {
   "cell_type": "code",
   "execution_count": null,
   "id": "922bf615",
   "metadata": {},
   "outputs": [],
   "source": [
    "explore.plot_clusters(X_train_s,'alcohol','density','volatile acidity')"
   ]
  },
  {
   "cell_type": "code",
   "execution_count": null,
   "id": "2cd9a3a6",
   "metadata": {},
   "outputs": [],
   "source": [
    "X_train_s,X_val_s,X_test= explore.cluster_Xsets(X_train_s,X_val_s,X_test,\n",
    "                                        ['alcohol','density','volatile acidity','chlorides'])"
   ]
  },
  {
   "cell_type": "code",
   "execution_count": null,
   "id": "532891ab",
   "metadata": {},
   "outputs": [],
   "source": [
    "X_train_s.head()"
   ]
  },
  {
   "cell_type": "code",
   "execution_count": null,
   "id": "648875bb",
   "metadata": {},
   "outputs": [],
   "source": [
    "X_train_s.cluster.value_counts()"
   ]
  },
  {
   "cell_type": "markdown",
   "id": "a00b95ba",
   "metadata": {},
   "source": [
    "The proportion of acid to (alcohol + sugar) affects quality   \n",
    "The proportion of acid to chlorides affects quality"
   ]
  },
  {
   "cell_type": "code",
   "execution_count": null,
   "id": "37fc62f4",
   "metadata": {},
   "outputs": [],
   "source": [
    "def acid_alcohol_proportion(df):\n",
    "    df['acid_alc_sugar']=(df['fixed acidity']+df['volatile acidity']+df['citric acid']/3)/(df['alcohol']+df['residual sugar']/2)\n",
    "    df['acid_chlor'] = (df['fixed acidity']+df['volatile acidity']+df['citric acid']/3)/df['chlorides']\n",
    "    return df"
   ]
  },
  {
   "cell_type": "code",
   "execution_count": null,
   "id": "3cdf2bc1",
   "metadata": {},
   "outputs": [],
   "source": [
    "X_train_s = acid_alcohol_proportion(X_train_s)"
   ]
  },
  {
   "cell_type": "code",
   "execution_count": null,
   "id": "fa4a788b",
   "metadata": {},
   "outputs": [],
   "source": [
    "X_train_s"
   ]
  },
  {
   "cell_type": "code",
   "execution_count": null,
   "id": "6b246cd7",
   "metadata": {},
   "outputs": [],
   "source": []
  }
 ],
 "metadata": {
  "kernelspec": {
   "display_name": "Python 3 (ipykernel)",
   "language": "python",
   "name": "python3"
  },
  "language_info": {
   "codemirror_mode": {
    "name": "ipython",
    "version": 3
   },
   "file_extension": ".py",
   "mimetype": "text/x-python",
   "name": "python",
   "nbconvert_exporter": "python",
   "pygments_lexer": "ipython3",
   "version": "3.9.7"
  }
 },
 "nbformat": 4,
 "nbformat_minor": 5
}
